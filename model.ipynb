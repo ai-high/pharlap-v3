{
 "cells": [
  {
   "cell_type": "code",
   "execution_count": 1,
   "metadata": {},
   "outputs": [
    {
     "name": "stderr",
     "output_type": "stream",
     "text": [
      "Using TensorFlow backend.\n"
     ]
    }
   ],
   "source": [
    "import numpy as np\n",
    "import keras\n",
    "from keras.models import Sequential\n",
    "from keras.layers import Dense\n",
    "from sklearn.preprocessing import StandardScaler"
   ]
  },
  {
   "cell_type": "code",
   "execution_count": 2,
   "metadata": {},
   "outputs": [],
   "source": [
    "import sqlite3\n",
    "import numpy as np\n",
    "sqlite_db = 'datasets/afl-stats.sqlite'\n",
    "conn = sqlite3.connect(sqlite_db) \n",
    "c = conn.cursor()\n",
    "\n",
    "res = c.execute(\"\"\"SELECT * FROM winner;\"\"\")\n",
    "y = res.fetchall()\n",
    "y = np.array(y)\n",
    "y_train = y[:4078]\n",
    "y_test = y[4078:]\n",
    "\n",
    "res = c.execute(\"\"\"SELECT * FROM ai;\"\"\")\n",
    "x = res.fetchall()\n",
    "x = np.array(x)\n",
    "x_train = x[:4078]\n",
    "x_test = x[4078:]"
   ]
  },
  {
   "cell_type": "code",
   "execution_count": 3,
   "metadata": {},
   "outputs": [
    {
     "name": "stderr",
     "output_type": "stream",
     "text": [
      "/anaconda3/lib/python3.7/site-packages/sklearn/utils/validation.py:595: DataConversionWarning: Data with input dtype int64 was converted to float64 by StandardScaler.\n",
      "  warnings.warn(msg, DataConversionWarning)\n",
      "/anaconda3/lib/python3.7/site-packages/sklearn/utils/validation.py:595: DataConversionWarning: Data with input dtype int64 was converted to float64 by StandardScaler.\n",
      "  warnings.warn(msg, DataConversionWarning)\n",
      "/anaconda3/lib/python3.7/site-packages/sklearn/utils/validation.py:595: DataConversionWarning: Data with input dtype int64 was converted to float64 by StandardScaler.\n",
      "  warnings.warn(msg, DataConversionWarning)\n"
     ]
    }
   ],
   "source": [
    "sc = StandardScaler()\n",
    "X_train = sc.fit_transform(x_train)\n",
    "X_test = sc.transform(x_test)"
   ]
  },
  {
   "cell_type": "code",
   "execution_count": 7,
   "metadata": {},
   "outputs": [
    {
     "data": {
      "text/plain": [
       "16"
      ]
     },
     "execution_count": 7,
     "metadata": {},
     "output_type": "execute_result"
    }
   ],
   "source": [
    "X_test.shape[1]"
   ]
  },
  {
   "cell_type": "code",
   "execution_count": 15,
   "metadata": {},
   "outputs": [
    {
     "name": "stdout",
     "output_type": "stream",
     "text": [
      "Epoch 1/100\n",
      "4078/4078 [==============================] - 1s 158us/step - loss: 0.4580 - acc: 0.7847\n",
      "Epoch 2/100\n",
      "4078/4078 [==============================] - 0s 91us/step - loss: 0.3975 - acc: 0.8158\n",
      "Epoch 3/100\n",
      "4078/4078 [==============================] - 0s 90us/step - loss: 0.3910 - acc: 0.8190\n",
      "Epoch 4/100\n",
      "4078/4078 [==============================] - 0s 93us/step - loss: 0.3905 - acc: 0.8180\n",
      "Epoch 5/100\n",
      "4078/4078 [==============================] - 0s 102us/step - loss: 0.3888 - acc: 0.8215\n",
      "Epoch 6/100\n",
      "4078/4078 [==============================] - 0s 92us/step - loss: 0.3863 - acc: 0.8203\n",
      "Epoch 7/100\n",
      "4078/4078 [==============================] - 0s 92us/step - loss: 0.3861 - acc: 0.8230\n",
      "Epoch 8/100\n",
      "4078/4078 [==============================] - 0s 92us/step - loss: 0.3845 - acc: 0.8207\n",
      "Epoch 9/100\n",
      "4078/4078 [==============================] - 0s 92us/step - loss: 0.3829 - acc: 0.8234\n",
      "Epoch 10/100\n",
      "4078/4078 [==============================] - 0s 92us/step - loss: 0.3823 - acc: 0.8266\n",
      "Epoch 11/100\n",
      "4078/4078 [==============================] - 0s 92us/step - loss: 0.3807 - acc: 0.8264\n",
      "Epoch 12/100\n",
      "4078/4078 [==============================] - 0s 94us/step - loss: 0.3789 - acc: 0.8259\n",
      "Epoch 13/100\n",
      "4078/4078 [==============================] - 0s 95us/step - loss: 0.3788 - acc: 0.8276\n",
      "Epoch 14/100\n",
      "4078/4078 [==============================] - 0s 105us/step - loss: 0.3761 - acc: 0.8301\n",
      "Epoch 15/100\n",
      "4078/4078 [==============================] - 0s 100us/step - loss: 0.3770 - acc: 0.8286\n",
      "Epoch 16/100\n",
      "4078/4078 [==============================] - 0s 99us/step - loss: 0.3755 - acc: 0.8256\n",
      "Epoch 17/100\n",
      "4078/4078 [==============================] - 0s 101us/step - loss: 0.3760 - acc: 0.8320\n",
      "Epoch 18/100\n",
      "4078/4078 [==============================] - 0s 94us/step - loss: 0.3740 - acc: 0.8301\n",
      "Epoch 19/100\n",
      "4078/4078 [==============================] - 0s 87us/step - loss: 0.3721 - acc: 0.8306\n",
      "Epoch 20/100\n",
      "4078/4078 [==============================] - 0s 90us/step - loss: 0.3731 - acc: 0.8301\n",
      "Epoch 21/100\n",
      "4078/4078 [==============================] - 0s 95us/step - loss: 0.3693 - acc: 0.8318\n",
      "Epoch 22/100\n",
      "4078/4078 [==============================] - 0s 94us/step - loss: 0.3690 - acc: 0.8355\n",
      "Epoch 23/100\n",
      "4078/4078 [==============================] - 0s 87us/step - loss: 0.3702 - acc: 0.8323\n",
      "Epoch 24/100\n",
      "4078/4078 [==============================] - 0s 89us/step - loss: 0.3682 - acc: 0.8342\n",
      "Epoch 25/100\n",
      "4078/4078 [==============================] - 0s 87us/step - loss: 0.3673 - acc: 0.8318\n",
      "Epoch 26/100\n",
      "4078/4078 [==============================] - 0s 86us/step - loss: 0.3674 - acc: 0.8298\n",
      "Epoch 27/100\n",
      "4078/4078 [==============================] - 0s 88us/step - loss: 0.3657 - acc: 0.8347\n",
      "Epoch 28/100\n",
      "4078/4078 [==============================] - 0s 87us/step - loss: 0.3651 - acc: 0.8382\n",
      "Epoch 29/100\n",
      "4078/4078 [==============================] - 0s 87us/step - loss: 0.3627 - acc: 0.8374\n",
      "Epoch 30/100\n",
      "4078/4078 [==============================] - 0s 86us/step - loss: 0.3638 - acc: 0.8303\n",
      "Epoch 31/100\n",
      "4078/4078 [==============================] - 0s 86us/step - loss: 0.3624 - acc: 0.8362\n",
      "Epoch 32/100\n",
      "4078/4078 [==============================] - 0s 87us/step - loss: 0.3587 - acc: 0.8391\n",
      "Epoch 33/100\n",
      "4078/4078 [==============================] - 0s 87us/step - loss: 0.3595 - acc: 0.8394\n",
      "Epoch 34/100\n",
      "4078/4078 [==============================] - 0s 86us/step - loss: 0.3579 - acc: 0.8367\n",
      "Epoch 35/100\n",
      "4078/4078 [==============================] - 0s 86us/step - loss: 0.3562 - acc: 0.8379\n",
      "Epoch 36/100\n",
      "4078/4078 [==============================] - 0s 87us/step - loss: 0.3555 - acc: 0.8359\n",
      "Epoch 37/100\n",
      "4078/4078 [==============================] - 0s 86us/step - loss: 0.3537 - acc: 0.8426\n",
      "Epoch 38/100\n",
      "4078/4078 [==============================] - 0s 87us/step - loss: 0.3517 - acc: 0.8399\n",
      "Epoch 39/100\n",
      "4078/4078 [==============================] - 0s 86us/step - loss: 0.3509 - acc: 0.8389\n",
      "Epoch 40/100\n",
      "4078/4078 [==============================] - 0s 87us/step - loss: 0.3489 - acc: 0.8418\n",
      "Epoch 41/100\n",
      "4078/4078 [==============================] - 0s 87us/step - loss: 0.3473 - acc: 0.8377\n",
      "Epoch 42/100\n",
      "4078/4078 [==============================] - 0s 87us/step - loss: 0.3449 - acc: 0.8433\n",
      "Epoch 43/100\n",
      "4078/4078 [==============================] - 0s 86us/step - loss: 0.3459 - acc: 0.8448\n",
      "Epoch 44/100\n",
      "4078/4078 [==============================] - 0s 87us/step - loss: 0.3421 - acc: 0.8448\n",
      "Epoch 45/100\n",
      "4078/4078 [==============================] - 0s 86us/step - loss: 0.3422 - acc: 0.8445\n",
      "Epoch 46/100\n",
      "4078/4078 [==============================] - 0s 86us/step - loss: 0.3399 - acc: 0.8470\n",
      "Epoch 47/100\n",
      "4078/4078 [==============================] - 0s 86us/step - loss: 0.3369 - acc: 0.8504\n",
      "Epoch 48/100\n",
      "4078/4078 [==============================] - 0s 86us/step - loss: 0.3366 - acc: 0.8514\n",
      "Epoch 49/100\n",
      "4078/4078 [==============================] - 0s 86us/step - loss: 0.3333 - acc: 0.8529\n",
      "Epoch 50/100\n",
      "4078/4078 [==============================] - 0s 95us/step - loss: 0.3334 - acc: 0.8534\n",
      "Epoch 51/100\n",
      "4078/4078 [==============================] - 0s 95us/step - loss: 0.3312 - acc: 0.8536\n",
      "Epoch 52/100\n",
      "4078/4078 [==============================] - 0s 106us/step - loss: 0.3281 - acc: 0.8531\n",
      "Epoch 53/100\n",
      "4078/4078 [==============================] - 0s 101us/step - loss: 0.3276 - acc: 0.8497\n",
      "Epoch 54/100\n",
      "4078/4078 [==============================] - 0s 92us/step - loss: 0.3267 - acc: 0.8521\n",
      "Epoch 55/100\n",
      "4078/4078 [==============================] - 0s 90us/step - loss: 0.3239 - acc: 0.8524\n",
      "Epoch 56/100\n",
      "4078/4078 [==============================] - 0s 95us/step - loss: 0.3207 - acc: 0.8597\n",
      "Epoch 57/100\n",
      "4078/4078 [==============================] - 0s 98us/step - loss: 0.3208 - acc: 0.8573\n",
      "Epoch 58/100\n",
      "4078/4078 [==============================] - 0s 90us/step - loss: 0.3181 - acc: 0.8570\n",
      "Epoch 59/100\n",
      "4078/4078 [==============================] - 0s 88us/step - loss: 0.3175 - acc: 0.8629\n",
      "Epoch 60/100\n",
      "4078/4078 [==============================] - 0s 92us/step - loss: 0.3156 - acc: 0.8553\n",
      "Epoch 61/100\n",
      "4078/4078 [==============================] - 0s 92us/step - loss: 0.3122 - acc: 0.8617\n",
      "Epoch 62/100\n",
      "4078/4078 [==============================] - 0s 89us/step - loss: 0.3114 - acc: 0.8624\n",
      "Epoch 63/100\n",
      "4078/4078 [==============================] - 0s 98us/step - loss: 0.3104 - acc: 0.8622\n",
      "Epoch 64/100\n",
      "4078/4078 [==============================] - 0s 98us/step - loss: 0.3070 - acc: 0.8654\n",
      "Epoch 65/100\n",
      "4078/4078 [==============================] - 0s 90us/step - loss: 0.3054 - acc: 0.8673\n",
      "Epoch 66/100\n",
      "4078/4078 [==============================] - 0s 89us/step - loss: 0.3050 - acc: 0.8600\n",
      "Epoch 67/100\n",
      "4078/4078 [==============================] - 0s 93us/step - loss: 0.3036 - acc: 0.8668\n",
      "Epoch 68/100\n",
      "4078/4078 [==============================] - 0s 88us/step - loss: 0.3000 - acc: 0.8664\n",
      "Epoch 69/100\n",
      "4078/4078 [==============================] - 0s 89us/step - loss: 0.2980 - acc: 0.8683\n",
      "Epoch 70/100\n",
      "4078/4078 [==============================] - 0s 88us/step - loss: 0.2942 - acc: 0.8683\n",
      "Epoch 71/100\n",
      "4078/4078 [==============================] - 0s 92us/step - loss: 0.2961 - acc: 0.8664\n",
      "Epoch 72/100\n",
      "4078/4078 [==============================] - 0s 89us/step - loss: 0.2952 - acc: 0.8700\n",
      "Epoch 73/100\n",
      "4078/4078 [==============================] - 0s 91us/step - loss: 0.2896 - acc: 0.8767\n",
      "Epoch 74/100\n",
      "4078/4078 [==============================] - 0s 89us/step - loss: 0.2898 - acc: 0.8681\n",
      "Epoch 75/100\n",
      "4078/4078 [==============================] - 0s 89us/step - loss: 0.2846 - acc: 0.8722\n",
      "Epoch 76/100\n",
      "4078/4078 [==============================] - 0s 89us/step - loss: 0.2813 - acc: 0.8727\n",
      "Epoch 77/100\n",
      "4078/4078 [==============================] - 0s 93us/step - loss: 0.2841 - acc: 0.8737\n",
      "Epoch 78/100\n",
      "4078/4078 [==============================] - 0s 98us/step - loss: 0.2863 - acc: 0.8735\n",
      "Epoch 79/100\n",
      "4078/4078 [==============================] - 0s 87us/step - loss: 0.2781 - acc: 0.8794\n",
      "Epoch 80/100\n",
      "4078/4078 [==============================] - 0s 88us/step - loss: 0.2746 - acc: 0.8779\n",
      "Epoch 81/100\n",
      "4078/4078 [==============================] - 0s 89us/step - loss: 0.2739 - acc: 0.8779\n",
      "Epoch 82/100\n",
      "4078/4078 [==============================] - 0s 91us/step - loss: 0.2771 - acc: 0.8749\n"
     ]
    },
    {
     "name": "stdout",
     "output_type": "stream",
     "text": [
      "Epoch 83/100\n",
      "4078/4078 [==============================] - 0s 88us/step - loss: 0.2698 - acc: 0.8838\n",
      "Epoch 84/100\n",
      "4078/4078 [==============================] - 0s 88us/step - loss: 0.2694 - acc: 0.8794\n",
      "Epoch 85/100\n",
      "4078/4078 [==============================] - 0s 91us/step - loss: 0.2685 - acc: 0.8796\n",
      "Epoch 86/100\n",
      "4078/4078 [==============================] - 0s 91us/step - loss: 0.2655 - acc: 0.8835\n",
      "Epoch 87/100\n",
      "4078/4078 [==============================] - 0s 90us/step - loss: 0.2659 - acc: 0.8852\n",
      "Epoch 88/100\n",
      "4078/4078 [==============================] - 0s 93us/step - loss: 0.2623 - acc: 0.8843\n",
      "Epoch 89/100\n",
      "4078/4078 [==============================] - 0s 90us/step - loss: 0.2581 - acc: 0.8879\n",
      "Epoch 90/100\n",
      "4078/4078 [==============================] - 0s 90us/step - loss: 0.2633 - acc: 0.8806\n",
      "Epoch 91/100\n",
      "4078/4078 [==============================] - 0s 91us/step - loss: 0.2563 - acc: 0.8909\n",
      "Epoch 92/100\n",
      "4078/4078 [==============================] - 0s 91us/step - loss: 0.2567 - acc: 0.8872\n",
      "Epoch 93/100\n",
      "4078/4078 [==============================] - 0s 91us/step - loss: 0.2549 - acc: 0.8862\n",
      "Epoch 94/100\n",
      "4078/4078 [==============================] - 0s 89us/step - loss: 0.2553 - acc: 0.8892\n",
      "Epoch 95/100\n",
      "4078/4078 [==============================] - 0s 90us/step - loss: 0.2516 - acc: 0.8882\n",
      "Epoch 96/100\n",
      "4078/4078 [==============================] - 0s 90us/step - loss: 0.2502 - acc: 0.8894\n",
      "Epoch 97/100\n",
      "4078/4078 [==============================] - 0s 89us/step - loss: 0.2477 - acc: 0.8928\n",
      "Epoch 98/100\n",
      "4078/4078 [==============================] - 0s 91us/step - loss: 0.2490 - acc: 0.8862\n",
      "Epoch 99/100\n",
      "4078/4078 [==============================] - 0s 91us/step - loss: 0.2468 - acc: 0.8953\n",
      "Epoch 100/100\n",
      "4078/4078 [==============================] - 0s 91us/step - loss: 0.2397 - acc: 0.8960\n"
     ]
    },
    {
     "data": {
      "text/plain": [
       "0.741106719367589"
      ]
     },
     "execution_count": 15,
     "metadata": {},
     "output_type": "execute_result"
    }
   ],
   "source": [
    "classifier = Sequential()\n",
    "classifier.add(Dense(units = 64, kernel_initializer = 'uniform', activation = 'relu', input_dim = X_test.shape[1]))\n",
    "classifier.add(Dense(units = 64, kernel_initializer = 'uniform', activation = 'relu'))\n",
    "classifier.add(Dense(units = 1, kernel_initializer = 'uniform', activation = 'sigmoid'))\n",
    "classifier.compile(optimizer = 'adam', loss = 'binary_crossentropy', metrics = ['accuracy'])\n",
    "classifier.fit(X_train, y_train, batch_size = 10, epochs = 100)\n",
    "\n",
    "y_pred = classifier.predict(X_test)\n",
    "y_pred = (y_pred > 0.5)\n",
    "y_pred = (y_pred==1)\n",
    "from sklearn.metrics import confusion_matrix\n",
    "cm = confusion_matrix(y_test, y_pred)\n",
    "\n",
    "(cm[0][0]+cm[1][1])/sum(sum(cm))"
   ]
  },
  {
   "cell_type": "code",
   "execution_count": 11,
   "metadata": {},
   "outputs": [],
   "source": [
    "y_pred = classifier.predict(X_test)\n",
    "y_pred = (y_pred > 0.5)\n",
    "y_pred = (y_pred==1)\n",
    "from sklearn.metrics import confusion_matrix\n",
    "cm = confusion_matrix(y_test, y_pred)"
   ]
  },
  {
   "cell_type": "code",
   "execution_count": 12,
   "metadata": {},
   "outputs": [
    {
     "data": {
      "text/plain": [
       "0.8073122529644269"
      ]
     },
     "execution_count": 12,
     "metadata": {},
     "output_type": "execute_result"
    }
   ],
   "source": [
    "(cm[0][0]+cm[1][1])/sum(sum(cm))"
   ]
  },
  {
   "cell_type": "code",
   "execution_count": null,
   "metadata": {},
   "outputs": [],
   "source": []
  }
 ],
 "metadata": {
  "kernelspec": {
   "display_name": "Python 3",
   "language": "python",
   "name": "python3"
  },
  "language_info": {
   "codemirror_mode": {
    "name": "ipython",
    "version": 3
   },
   "file_extension": ".py",
   "mimetype": "text/x-python",
   "name": "python",
   "nbconvert_exporter": "python",
   "pygments_lexer": "ipython3",
   "version": "3.7.1"
  }
 },
 "nbformat": 4,
 "nbformat_minor": 2
}
