{
 "cells": [
  {
   "cell_type": "code",
   "execution_count": 1,
   "metadata": {},
   "outputs": [
    {
     "name": "stderr",
     "output_type": "stream",
     "text": [
      "Using TensorFlow backend.\n"
     ]
    }
   ],
   "source": [
    "import numpy as np\n",
    "import keras\n",
    "from keras.models import Sequential\n",
    "from keras.layers import Dense\n",
    "from sklearn.preprocessing import StandardScaler"
   ]
  },
  {
   "cell_type": "code",
   "execution_count": 2,
   "metadata": {},
   "outputs": [],
   "source": [
    "import sqlite3\n",
    "import numpy as np\n",
    "sqlite_db = 'datasets/afl-stats.sqlite'\n",
    "conn = sqlite3.connect(sqlite_db) \n",
    "c = conn.cursor()\n",
    "\n",
    "res = c.execute(\"\"\"SELECT * FROM winner;\"\"\")\n",
    "y = res.fetchall()\n",
    "y = np.array(y)\n",
    "y_train = y[:4078]\n",
    "y_test = y[4078:]\n",
    "\n",
    "res = c.execute(\"\"\"SELECT * FROM ai;\"\"\")\n",
    "x = res.fetchall()\n",
    "x = np.array(x)\n",
    "x_train = x[:4078]\n",
    "x_test = x[4078:]"
   ]
  },
  {
   "cell_type": "code",
   "execution_count": 3,
   "metadata": {},
   "outputs": [
    {
     "name": "stderr",
     "output_type": "stream",
     "text": [
      "/anaconda3/lib/python3.7/site-packages/sklearn/utils/validation.py:595: DataConversionWarning: Data with input dtype int64 was converted to float64 by StandardScaler.\n",
      "  warnings.warn(msg, DataConversionWarning)\n",
      "/anaconda3/lib/python3.7/site-packages/sklearn/utils/validation.py:595: DataConversionWarning: Data with input dtype int64 was converted to float64 by StandardScaler.\n",
      "  warnings.warn(msg, DataConversionWarning)\n",
      "/anaconda3/lib/python3.7/site-packages/sklearn/utils/validation.py:595: DataConversionWarning: Data with input dtype int64 was converted to float64 by StandardScaler.\n",
      "  warnings.warn(msg, DataConversionWarning)\n"
     ]
    }
   ],
   "source": [
    "sc = StandardScaler()\n",
    "X_train = sc.fit_transform(x_train)\n",
    "X_test = sc.transform(x_test)"
   ]
  },
  {
   "cell_type": "code",
   "execution_count": 7,
   "metadata": {},
   "outputs": [
    {
     "data": {
      "text/plain": [
       "16"
      ]
     },
     "execution_count": 7,
     "metadata": {},
     "output_type": "execute_result"
    }
   ],
   "source": [
    "X_test.shape[1]"
   ]
  },
  {
   "cell_type": "code",
   "execution_count": null,
   "metadata": {},
   "outputs": [
    {
     "name": "stdout",
     "output_type": "stream",
     "text": [
      "Epoch 1/100\n",
      "4078/4078 [==============================] - 1s 148us/step - loss: 0.4427 - acc: 0.7962\n",
      "Epoch 2/100\n",
      "4078/4078 [==============================] - 0s 90us/step - loss: 0.3982 - acc: 0.8168\n",
      "Epoch 3/100\n",
      "4078/4078 [==============================] - 0s 88us/step - loss: 0.3963 - acc: 0.8163\n",
      "Epoch 4/100\n",
      "4078/4078 [==============================] - 0s 88us/step - loss: 0.3904 - acc: 0.8212\n",
      "Epoch 5/100\n",
      "4078/4078 [==============================] - 0s 90us/step - loss: 0.3897 - acc: 0.8188\n",
      "Epoch 6/100\n",
      "4078/4078 [==============================] - 0s 89us/step - loss: 0.3847 - acc: 0.8207\n",
      "Epoch 7/100\n",
      "4078/4078 [==============================] - 0s 90us/step - loss: 0.3862 - acc: 0.8249\n",
      "Epoch 8/100\n",
      "4078/4078 [==============================] - 0s 89us/step - loss: 0.3836 - acc: 0.8234\n",
      "Epoch 9/100\n",
      "4078/4078 [==============================] - 0s 90us/step - loss: 0.3823 - acc: 0.8198\n",
      "Epoch 10/100\n",
      "4078/4078 [==============================] - 0s 90us/step - loss: 0.3821 - acc: 0.8249\n",
      "Epoch 11/100\n",
      "4078/4078 [==============================] - 0s 91us/step - loss: 0.3781 - acc: 0.8234\n",
      "Epoch 12/100\n",
      "4078/4078 [==============================] - 0s 91us/step - loss: 0.3771 - acc: 0.8252\n",
      "Epoch 13/100\n",
      "4078/4078 [==============================] - 0s 92us/step - loss: 0.3749 - acc: 0.8313\n",
      "Epoch 14/100\n",
      "4078/4078 [==============================] - 0s 91us/step - loss: 0.3734 - acc: 0.8291\n",
      "Epoch 15/100\n",
      "4078/4078 [==============================] - 0s 91us/step - loss: 0.3719 - acc: 0.8315\n",
      "Epoch 16/100\n",
      "4078/4078 [==============================] - 0s 90us/step - loss: 0.3686 - acc: 0.8328\n",
      "Epoch 17/100\n",
      "4078/4078 [==============================] - 0s 91us/step - loss: 0.3700 - acc: 0.8306\n",
      "Epoch 18/100\n",
      "4078/4078 [==============================] - 0s 93us/step - loss: 0.3671 - acc: 0.8313\n",
      "Epoch 19/100\n",
      "4078/4078 [==============================] - 0s 91us/step - loss: 0.3627 - acc: 0.8394\n",
      "Epoch 20/100\n",
      "4078/4078 [==============================] - 0s 92us/step - loss: 0.3584 - acc: 0.8391\n",
      "Epoch 21/100\n",
      "4078/4078 [==============================] - 0s 93us/step - loss: 0.3577 - acc: 0.8377\n",
      "Epoch 22/100\n",
      "4078/4078 [==============================] - 0s 93us/step - loss: 0.3531 - acc: 0.8386\n",
      "Epoch 23/100\n",
      "4078/4078 [==============================] - 0s 94us/step - loss: 0.3510 - acc: 0.8416\n",
      "Epoch 24/100\n",
      "4078/4078 [==============================] - 0s 94us/step - loss: 0.3475 - acc: 0.8438\n",
      "Epoch 25/100\n",
      "4078/4078 [==============================] - 0s 93us/step - loss: 0.3447 - acc: 0.8482\n",
      "Epoch 26/100\n",
      "4078/4078 [==============================] - 0s 96us/step - loss: 0.3426 - acc: 0.8455\n",
      "Epoch 27/100\n",
      "4078/4078 [==============================] - 0s 94us/step - loss: 0.3382 - acc: 0.8460\n",
      "Epoch 28/100\n",
      "4078/4078 [==============================] - 0s 94us/step - loss: 0.3347 - acc: 0.8543\n",
      "Epoch 29/100\n",
      "4078/4078 [==============================] - 0s 95us/step - loss: 0.3292 - acc: 0.8499\n",
      "Epoch 30/100\n",
      "2660/4078 [==================>...........] - ETA: 0s - loss: 0.3254 - acc: 0.8556"
     ]
    }
   ],
   "source": [
    "classifier = Sequential()\n",
    "classifier.add(Dense(units = 128, kernel_initializer = 'uniform', activation = 'relu', input_dim = X_test.shape[1]))\n",
    "classifier.add(Dense(units = 128, kernel_initializer = 'uniform', activation = 'relu'))\n",
    "classifier.add(Dense(units = 1, kernel_initializer = 'uniform', activation = 'sigmoid'))\n",
    "classifier.compile(optimizer = 'adam', loss = 'binary_crossentropy', metrics = ['accuracy'])\n",
    "classifier.fit(X_train, y_train, batch_size = 10, epochs = 100)\n",
    "\n",
    "y_pred = classifier.predict(X_test)\n",
    "y_pred = (y_pred > 0.5)\n",
    "y_pred = (y_pred==1)\n",
    "from sklearn.metrics import confusion_matrix\n",
    "cm = confusion_matrix(y_test, y_pred)\n",
    "\n",
    "(cm[0][0]+cm[1][1])/sum(sum(cm))"
   ]
  },
  {
   "cell_type": "code",
   "execution_count": 11,
   "metadata": {},
   "outputs": [],
   "source": [
    "y_pred = classifier.predict(X_test)\n",
    "y_pred = (y_pred > 0.5)\n",
    "y_pred = (y_pred==1)\n",
    "from sklearn.metrics import confusion_matrix\n",
    "cm = confusion_matrix(y_test, y_pred)"
   ]
  },
  {
   "cell_type": "code",
   "execution_count": 12,
   "metadata": {},
   "outputs": [
    {
     "data": {
      "text/plain": [
       "0.8073122529644269"
      ]
     },
     "execution_count": 12,
     "metadata": {},
     "output_type": "execute_result"
    }
   ],
   "source": [
    "(cm[0][0]+cm[1][1])/sum(sum(cm))"
   ]
  },
  {
   "cell_type": "code",
   "execution_count": null,
   "metadata": {},
   "outputs": [],
   "source": []
  }
 ],
 "metadata": {
  "kernelspec": {
   "display_name": "Python 3",
   "language": "python",
   "name": "python3"
  },
  "language_info": {
   "codemirror_mode": {
    "name": "ipython",
    "version": 3
   },
   "file_extension": ".py",
   "mimetype": "text/x-python",
   "name": "python",
   "nbconvert_exporter": "python",
   "pygments_lexer": "ipython3",
   "version": "3.7.1"
  }
 },
 "nbformat": 4,
 "nbformat_minor": 2
}
