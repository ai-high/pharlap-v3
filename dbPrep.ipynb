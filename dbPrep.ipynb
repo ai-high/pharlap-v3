{
 "cells": [
  {
   "cell_type": "code",
   "execution_count": 17,
   "metadata": {},
   "outputs": [],
   "source": [
    "import sqlite3\n",
    "sqlite_db = 'datasets/afl-stats.sqlite'\n",
    "conn = sqlite3.connect(sqlite_db) \n",
    "c = conn.cursor()"
   ]
  },
  {
   "cell_type": "code",
   "execution_count": 22,
   "metadata": {},
   "outputs": [
    {
     "data": {
      "text/plain": [
       "[(1, 1, 176, 123, 299, 54, 16, 10, 0, 0, 17, 11, 0, 28, 0, None, None),\n",
       " (1, 2, 173, 86, 259, 61, 17, 14, 0, 0, 17, 7, 2, 26, 0, None, None),\n",
       " (2, 3, 195, 99, 294, 51, 27, 28, 0, 0, 12, 7, 3, 22, 0, None, None),\n",
       " (2, 4, 204, 122, 326, 66, 33, 16, 0, 0, 11, 12, 1, 24, 0, None, None),\n",
       " (3, 5, 181, 69, 250, 69, 36, 22, 0, 0, 17, 11, 1, 29, 0, None, None),\n",
       " (3, 6, 166, 120, 286, 59, 24, 14, 0, 0, 16, 6, 1, 23, 0, None, None),\n",
       " (4, 7, 174, 90, 264, 59, 17, 18, 0, 0, 15, 7, 0, 22, 0, None, None),\n",
       " (4, 8, 206, 123, 329, 77, 29, 25, 0, 0, 23, 14, 1, 38, 0, None, None),\n",
       " (5, 9, 164, 111, 275, 50, 36, 17, 0, 0, 13, 16, 5, 34, 0, None, None),\n",
       " (5, 10, 164, 81, 245, 69, 25, 18, 0, 0, 12, 14, 3, 29, 0, None, None),\n",
       " (6, 11, 226, 136, 362, 95, 28, 22, 0, 0, 22, 13, 5, 40, 0, None, None),\n",
       " (6, 12, 183, 123, 306, 64, 24, 19, 0, 0, 13, 5, 1, 19, 0, None, None),\n",
       " (7, 13, 221, 110, 331, 89, 23, 24, 0, 0, 26, 17, 1, 44, 0, None, None),\n",
       " (7, 14, 161, 73, 234, 54, 29, 18, 0, 0, 16, 11, 2, 29, 0, None, None),\n",
       " (8, 15, 189, 116, 305, 58, 21, 20, 0, 0, 21, 12, 4, 37, 0, None, None),\n",
       " (8, 7, 209, 127, 336, 62, 20, 6, 0, 0, 10, 12, 1, 23, 0, None, None),\n",
       " (9, 8, 157, 106, 263, 60, 38, 11, 0, 0, 8, 13, 3, 24, 0, None, None),\n",
       " (9, 13, 187, 141, 328, 76, 24, 24, 0, 0, 17, 14, 2, 33, 0, None, None),\n",
       " (10, 6, 185, 109, 294, 60, 35, 11, 0, 0, 17, 10, 0, 27, 0, None, None),\n",
       " (10, 3, 188, 105, 293, 53, 25, 24, 0, 0, 14, 13, 2, 29, 0, None, None)]"
      ]
     },
     "execution_count": 22,
     "metadata": {},
     "output_type": "execute_result"
    }
   ],
   "source": [
    "#c.execute('CREATE TABLE houses (field1 INTEGER PRIMARY KEY, sqft INTEGER, bdrms INTEGER, age INTEGER, price INTEGER);')\n",
    "res = c.execute('SELECT * FROM stats LIMIT 20;')\n",
    "res.fetchall()\n",
    "#Save (commit) the changes\n",
    "#conn.commit()"
   ]
  },
  {
   "cell_type": "code",
   "execution_count": 25,
   "metadata": {},
   "outputs": [
    {
     "data": {
      "text/plain": [
       "[(144, 10, 195, 122, 317, 69, 32, 9, 0, 0, 9, 13, 3, 25, 0, None, None),\n",
       " (146, 10, 171, 115, 286, 57, 22, 14, 0, 0, 11, 13, 2, 26, 0, None, None),\n",
       " (153, 10, 189, 129, 318, 74, 28, 12, 0, 0, 15, 9, 0, 24, 0, None, None),\n",
       " (164, 10, 171, 115, 286, 58, 39, 17, 0, 0, 18, 13, 0, 31, 0, None, None),\n",
       " (180, 10, 171, 111, 282, 69, 20, 12, 0, 0, 12, 13, 0, 25, 0, None, None),\n",
       " (189, 10, 171, 105, 276, 61, 28, 12, 0, 0, 10, 14, 1, 25, 0, None, None),\n",
       " (196, 10, 189, 127, 316, 65, 24, 24, 0, 0, 14, 14, 1, 29, 0, None, None),\n",
       " (201, 10, 178, 109, 287, 74, 25, 13, 0, 0, 17, 13, 1, 31, 0, None, None),\n",
       " (213, 10, 191, 131, 322, 61, 41, 16, 0, 0, 20, 23, 1, 44, 0, None, None),\n",
       " (220, 10, 158, 91, 249, 42, 29, 22, 0, 0, 16, 8, 1, 25, 0, None, None),\n",
       " (226, 10, 193, 107, 300, 70, 29, 23, 0, 0, 11, 8, 2, 21, 0, None, None),\n",
       " (231, 10, 194, 126, 320, 87, 14, 10, 0, 0, 21, 5, 1, 27, 0, None, None),\n",
       " (244, 10, 161, 111, 272, 67, 30, 21, 0, 0, 14, 4, 2, 20, 0, None, None),\n",
       " (248, 10, 155, 105, 260, 64, 27, 15, 0, 0, 11, 10, 1, 22, 0, None, None),\n",
       " (261, 10, 181, 141, 322, 67, 14, 15, 0, 0, 9, 13, 4, 26, 0, None, None),\n",
       " (269, 10, 169, 136, 305, 77, 23, 29, 0, 0, 10, 8, 4, 22, 0, None, None),\n",
       " (275, 10, 191, 109, 300, 95, 26, 16, 0, 0, 21, 9, 3, 33, 0, None, None),\n",
       " (285, 10, 170, 116, 286, 77, 28, 12, 0, 0, 14, 8, 2, 24, 0, None, None),\n",
       " (288, 10, 199, 125, 324, 86, 37, 20, 0, 0, 16, 16, 1, 33, 0, None, None),\n",
       " (298, 10, 163, 119, 282, 70, 32, 24, 0, 0, 12, 7, 0, 19, 0, None, None)]"
      ]
     },
     "execution_count": 25,
     "metadata": {},
     "output_type": "execute_result"
    }
   ],
   "source": [
    "# last 20 match stats for Swans (teamid=10)\n",
    "res = c.execute('SELECT * FROM stats WHERE team_id=10 AND game_id > 136 LIMIT 20;')\n",
    "res.fetchall()"
   ]
  },
  {
   "cell_type": "code",
   "execution_count": 31,
   "metadata": {},
   "outputs": [
    {
     "data": {
      "text/plain": [
       "191.1532385466035"
      ]
     },
     "execution_count": 31,
     "metadata": {},
     "output_type": "execute_result"
    }
   ],
   "source": [
    "# average kick per game for last 20 match stats for Swans (teamid=10)\n",
    "res = c.execute('SELECT AVG(kicks) FROM stats WHERE team_id=10 AND game_id > 136 LIMIT 20;')\n",
    "res.fetchone()[0]"
   ]
  },
  {
   "cell_type": "code",
   "execution_count": null,
   "metadata": {},
   "outputs": [],
   "source": []
  }
 ],
 "metadata": {
  "kernelspec": {
   "display_name": "Python 2",
   "language": "python",
   "name": "python2"
  },
  "language_info": {
   "codemirror_mode": {
    "name": "ipython",
    "version": 2
   },
   "file_extension": ".py",
   "mimetype": "text/x-python",
   "name": "python",
   "nbconvert_exporter": "python",
   "pygments_lexer": "ipython2",
   "version": "2.7.15"
  }
 },
 "nbformat": 4,
 "nbformat_minor": 2
}
