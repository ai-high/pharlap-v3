{
 "cells": [
  {
   "cell_type": "code",
   "execution_count": 2,
   "metadata": {},
   "outputs": [],
   "source": [
    "import sqlite3\n",
    "sqlite_db = 'datasets/afl-stats.sqlite'\n",
    "conn = sqlite3.connect(sqlite_db) \n",
    "c = conn.cursor()"
   ]
  },
  {
   "cell_type": "code",
   "execution_count": 22,
   "metadata": {},
   "outputs": [
    {
     "data": {
      "text/plain": [
       "[(1, 1, 176, 123, 299, 54, 16, 10, 0, 0, 17, 11, 0, 28, 0, None, None),\n",
       " (1, 2, 173, 86, 259, 61, 17, 14, 0, 0, 17, 7, 2, 26, 0, None, None),\n",
       " (2, 3, 195, 99, 294, 51, 27, 28, 0, 0, 12, 7, 3, 22, 0, None, None),\n",
       " (2, 4, 204, 122, 326, 66, 33, 16, 0, 0, 11, 12, 1, 24, 0, None, None),\n",
       " (3, 5, 181, 69, 250, 69, 36, 22, 0, 0, 17, 11, 1, 29, 0, None, None),\n",
       " (3, 6, 166, 120, 286, 59, 24, 14, 0, 0, 16, 6, 1, 23, 0, None, None),\n",
       " (4, 7, 174, 90, 264, 59, 17, 18, 0, 0, 15, 7, 0, 22, 0, None, None),\n",
       " (4, 8, 206, 123, 329, 77, 29, 25, 0, 0, 23, 14, 1, 38, 0, None, None),\n",
       " (5, 9, 164, 111, 275, 50, 36, 17, 0, 0, 13, 16, 5, 34, 0, None, None),\n",
       " (5, 10, 164, 81, 245, 69, 25, 18, 0, 0, 12, 14, 3, 29, 0, None, None),\n",
       " (6, 11, 226, 136, 362, 95, 28, 22, 0, 0, 22, 13, 5, 40, 0, None, None),\n",
       " (6, 12, 183, 123, 306, 64, 24, 19, 0, 0, 13, 5, 1, 19, 0, None, None),\n",
       " (7, 13, 221, 110, 331, 89, 23, 24, 0, 0, 26, 17, 1, 44, 0, None, None),\n",
       " (7, 14, 161, 73, 234, 54, 29, 18, 0, 0, 16, 11, 2, 29, 0, None, None),\n",
       " (8, 15, 189, 116, 305, 58, 21, 20, 0, 0, 21, 12, 4, 37, 0, None, None),\n",
       " (8, 7, 209, 127, 336, 62, 20, 6, 0, 0, 10, 12, 1, 23, 0, None, None),\n",
       " (9, 8, 157, 106, 263, 60, 38, 11, 0, 0, 8, 13, 3, 24, 0, None, None),\n",
       " (9, 13, 187, 141, 328, 76, 24, 24, 0, 0, 17, 14, 2, 33, 0, None, None),\n",
       " (10, 6, 185, 109, 294, 60, 35, 11, 0, 0, 17, 10, 0, 27, 0, None, None),\n",
       " (10, 3, 188, 105, 293, 53, 25, 24, 0, 0, 14, 13, 2, 29, 0, None, None)]"
      ]
     },
     "execution_count": 22,
     "metadata": {},
     "output_type": "execute_result"
    }
   ],
   "source": [
    "res = c.execute('SELECT * FROM stats LIMIT 20;')\n",
    "res.fetchall()\n",
    "#Save (commit) the changes\n",
    "#conn.commit()"
   ]
  },
  {
   "cell_type": "code",
   "execution_count": 46,
   "metadata": {},
   "outputs": [
    {
     "data": {
      "text/plain": [
       "[(1, 1, 1, 176, 2, 173),\n",
       " (1, 1, 2, 173, 1, 176),\n",
       " (2, 2, 3, 195, 4, 204),\n",
       " (2, 2, 4, 204, 3, 195),\n",
       " (3, 3, 5, 181, 6, 166),\n",
       " (3, 3, 6, 166, 5, 181),\n",
       " (4, 4, 7, 174, 8, 206),\n",
       " (4, 4, 8, 206, 7, 174),\n",
       " (5, 5, 9, 164, 10, 164),\n",
       " (5, 5, 10, 164, 9, 164),\n",
       " (6, 6, 11, 226, 12, 183),\n",
       " (6, 6, 12, 183, 11, 226),\n",
       " (7, 7, 13, 221, 14, 161),\n",
       " (7, 7, 14, 161, 13, 221),\n",
       " (8, 8, 15, 189, 7, 209),\n",
       " (8, 8, 7, 209, 15, 189),\n",
       " (9, 9, 8, 157, 13, 187),\n",
       " (9, 9, 13, 187, 8, 157),\n",
       " (10, 10, 6, 185, 3, 188),\n",
       " (10, 10, 3, 188, 6, 185)]"
      ]
     },
     "execution_count": 46,
     "metadata": {},
     "output_type": "execute_result"
    }
   ],
   "source": [
    "# self join on stats\n",
    "res = c.execute('SELECT A.game_id,B.game_id,A.team_id,A.kicks,B.team_id,B.kicks FROM stats A INNER JOIN stats B  WHERE A.game_id=B.game_id AND A.team_id!=B.team_id  LIMIT 20;')\n",
    "res.fetchall()"
   ]
  },
  {
   "cell_type": "code",
   "execution_count": 25,
   "metadata": {},
   "outputs": [
    {
     "data": {
      "text/plain": [
       "[(144, 10, 195, 122, 317, 69, 32, 9, 0, 0, 9, 13, 3, 25, 0, None, None),\n",
       " (146, 10, 171, 115, 286, 57, 22, 14, 0, 0, 11, 13, 2, 26, 0, None, None),\n",
       " (153, 10, 189, 129, 318, 74, 28, 12, 0, 0, 15, 9, 0, 24, 0, None, None),\n",
       " (164, 10, 171, 115, 286, 58, 39, 17, 0, 0, 18, 13, 0, 31, 0, None, None),\n",
       " (180, 10, 171, 111, 282, 69, 20, 12, 0, 0, 12, 13, 0, 25, 0, None, None),\n",
       " (189, 10, 171, 105, 276, 61, 28, 12, 0, 0, 10, 14, 1, 25, 0, None, None),\n",
       " (196, 10, 189, 127, 316, 65, 24, 24, 0, 0, 14, 14, 1, 29, 0, None, None),\n",
       " (201, 10, 178, 109, 287, 74, 25, 13, 0, 0, 17, 13, 1, 31, 0, None, None),\n",
       " (213, 10, 191, 131, 322, 61, 41, 16, 0, 0, 20, 23, 1, 44, 0, None, None),\n",
       " (220, 10, 158, 91, 249, 42, 29, 22, 0, 0, 16, 8, 1, 25, 0, None, None),\n",
       " (226, 10, 193, 107, 300, 70, 29, 23, 0, 0, 11, 8, 2, 21, 0, None, None),\n",
       " (231, 10, 194, 126, 320, 87, 14, 10, 0, 0, 21, 5, 1, 27, 0, None, None),\n",
       " (244, 10, 161, 111, 272, 67, 30, 21, 0, 0, 14, 4, 2, 20, 0, None, None),\n",
       " (248, 10, 155, 105, 260, 64, 27, 15, 0, 0, 11, 10, 1, 22, 0, None, None),\n",
       " (261, 10, 181, 141, 322, 67, 14, 15, 0, 0, 9, 13, 4, 26, 0, None, None),\n",
       " (269, 10, 169, 136, 305, 77, 23, 29, 0, 0, 10, 8, 4, 22, 0, None, None),\n",
       " (275, 10, 191, 109, 300, 95, 26, 16, 0, 0, 21, 9, 3, 33, 0, None, None),\n",
       " (285, 10, 170, 116, 286, 77, 28, 12, 0, 0, 14, 8, 2, 24, 0, None, None),\n",
       " (288, 10, 199, 125, 324, 86, 37, 20, 0, 0, 16, 16, 1, 33, 0, None, None),\n",
       " (298, 10, 163, 119, 282, 70, 32, 24, 0, 0, 12, 7, 0, 19, 0, None, None)]"
      ]
     },
     "execution_count": 25,
     "metadata": {},
     "output_type": "execute_result"
    }
   ],
   "source": [
    "# last 20 match stats for Swans (teamid=10)\n",
    "res = c.execute('SELECT * FROM stats WHERE team_id=10 AND game_id > 136 LIMIT 20;')\n",
    "res.fetchall()"
   ]
  },
  {
   "cell_type": "code",
   "execution_count": null,
   "metadata": {},
   "outputs": [],
   "source": []
  },
  {
   "cell_type": "code",
   "execution_count": 31,
   "metadata": {},
   "outputs": [
    {
     "data": {
      "text/plain": [
       "191.1532385466035"
      ]
     },
     "execution_count": 31,
     "metadata": {},
     "output_type": "execute_result"
    }
   ],
   "source": [
    "# average kick per game for last 20 match stats for Swans (teamid=10)\n",
    "res = c.execute('SELECT AVG(kicks) FROM stats WHERE team_id=10 AND game_id > 136 LIMIT 20;')\n",
    "res.fetchone()[0]"
   ]
  },
  {
   "cell_type": "code",
   "execution_count": 49,
   "metadata": {},
   "outputs": [
    {
     "data": {
      "text/plain": [
       "[(5089, u'2010-03-25 00:00:00', u'1', 2, 12, 2, 72010),\n",
       " (5090, u'2010-03-26 00:00:00', u'1', 14, 3, 2, 57772),\n",
       " (5091, u'2010-03-27 00:00:00', u'1', 13, 8, 2, 45615),\n",
       " (5092, u'2010-03-27 00:00:00', u'1', 9, 4, 5, 29201),\n",
       " (5093, u'2010-03-27 00:00:00', u'1', 10, 7, 16, 31330),\n",
       " (5094, u'2010-03-28 00:00:00', u'1', 18, 15, 6, 21205),\n",
       " (5095, u'2010-03-28 00:00:00', u'1', 1, 5, 14, 49000),\n",
       " (5096, u'2010-03-28 00:00:00', u'1', 16, 11, 8, 30976),\n",
       " (5081, u'2010-04-01 00:00:00', u'2', 9, 12, 5, 36780),\n",
       " (5082, u'2010-04-03 00:00:00', u'2', 5, 13, 2, 50421)]"
      ]
     },
     "execution_count": 49,
     "metadata": {},
     "output_type": "execute_result"
    }
   ],
   "source": [
    "zac = c.execute(\"\"\"SELECT * \n",
    "                    FROM games \n",
    "                    WHERE date>\"2010-01-01\" \n",
    "                    ORDER BY date LIMIT 10;\"\"\")\n",
    "zac.fetchall()"
   ]
  },
  {
   "cell_type": "code",
   "execution_count": 52,
   "metadata": {},
   "outputs": [
    {
     "data": {
      "text/plain": [
       "[(u'Bulldogs', 176),\n",
       " (u'Richmond', 173),\n",
       " (u'Essendon', 195),\n",
       " (u'Eagles', 204),\n",
       " (u'Collingwood', 181),\n",
       " (u'Fitzroy', 166),\n",
       " (u'Saints', 174),\n",
       " (u'Hawthorn', 206),\n",
       " (u'Brisbane', 164),\n",
       " (u'Sydney', 164),\n",
       " (u'Adelaide', 226),\n",
       " (u'Carlton', 183),\n",
       " (u'Melbourne', 221),\n",
       " (u'Geelong', 161),\n",
       " (u'North', 189),\n",
       " (u'Saints', 209),\n",
       " (u'Hawthorn', 157),\n",
       " (u'Melbourne', 187),\n",
       " (u'Fitzroy', 185),\n",
       " (u'Essendon', 188)]"
      ]
     },
     "execution_count": 52,
     "metadata": {},
     "output_type": "execute_result"
    }
   ],
   "source": [
    "res = c.execute(\"\"\"\n",
    "                SELECT names.team_name,names.kicks\n",
    "                FROM (stats s JOIN teams t ON s.team_id=t.team_id) names\n",
    "                LIMIT 20\n",
    "                ;\"\"\")\n",
    "res.fetchall()"
   ]
  },
  {
   "cell_type": "code",
   "execution_count": 56,
   "metadata": {},
   "outputs": [
    {
     "data": {
      "text/plain": [
       "[(1, u'Bulldogs', 176),\n",
       " (2, u'Essendon', 195),\n",
       " (3, u'Collingwood', 181),\n",
       " (4, u'Saints', 174),\n",
       " (5, u'Brisbane', 164),\n",
       " (6, u'Adelaide', 226),\n",
       " (7, u'Melbourne', 221),\n",
       " (8, u'North', 189),\n",
       " (9, u'Hawthorn', 157),\n",
       " (10, u'Fitzroy', 185),\n",
       " (11, u'Richmond', 218),\n",
       " (12, u'Eagles', 178),\n",
       " (13, u'Geelong', 212),\n",
       " (14, u'Collingwood', 197),\n",
       " (15, u'North', 206),\n",
       " (16, u'Richmond', 163),\n",
       " (17, u'Saints', 215),\n",
       " (18, u'Fitzroy', 202),\n",
       " (19, u'Collingwood', 170),\n",
       " (20, u'Carlton', 204)]"
      ]
     },
     "execution_count": 56,
     "metadata": {},
     "output_type": "execute_result"
    }
   ],
   "source": [
    "res = c.execute(\"\"\"\n",
    "                SELECT g.game_id,names.team_name,names.kicks\n",
    "                FROM games g JOIN (stats s JOIN teams t ON s.team_id=t.team_id) names\n",
    "                ON g.game_id=names.game_id AND g.home_team_id=names.team_id\n",
    "                LIMIT 20\n",
    "                ;\"\"\")\n",
    "res.fetchall()"
   ]
  },
  {
   "cell_type": "code",
   "execution_count": 75,
   "metadata": {},
   "outputs": [
    {
     "data": {
      "text/plain": [
       "[]"
      ]
     },
     "execution_count": 75,
     "metadata": {},
     "output_type": "execute_result"
    }
   ],
   "source": [
    "res = c.execute(\"\"\"\n",
    "                DROP VIEW home\n",
    "                \"\"\")\n",
    "res = c.execute(\"\"\"\n",
    "                CREATE VIEW home AS\n",
    "                SELECT *\n",
    "                FROM stats s \n",
    "                WHERE team_id=11;\n",
    "                \"\"\")\n",
    "\n",
    "res.fetchall()"
   ]
  },
  {
   "cell_type": "code",
   "execution_count": 87,
   "metadata": {},
   "outputs": [
    {
     "data": {
      "text/plain": [
       "[(1, 1, 176, 123, 299, 54, 16, 10, 0, 0, 17, 11, 0, 28, 0, None, None),\n",
       " (1, 2, 173, 86, 259, 61, 17, 14, 0, 0, 17, 7, 2, 26, 0, None, None),\n",
       " (2, 3, 195, 99, 294, 51, 27, 28, 0, 0, 12, 7, 3, 22, 0, None, None),\n",
       " (2, 4, 204, 122, 326, 66, 33, 16, 0, 0, 11, 12, 1, 24, 0, None, None),\n",
       " (3, 5, 181, 69, 250, 69, 36, 22, 0, 0, 17, 11, 1, 29, 0, None, None),\n",
       " (3, 6, 166, 120, 286, 59, 24, 14, 0, 0, 16, 6, 1, 23, 0, None, None),\n",
       " (4, 7, 174, 90, 264, 59, 17, 18, 0, 0, 15, 7, 0, 22, 0, None, None),\n",
       " (4, 8, 206, 123, 329, 77, 29, 25, 0, 0, 23, 14, 1, 38, 0, None, None),\n",
       " (5, 9, 164, 111, 275, 50, 36, 17, 0, 0, 13, 16, 5, 34, 0, None, None),\n",
       " (5, 10, 164, 81, 245, 69, 25, 18, 0, 0, 12, 14, 3, 29, 0, None, None)]"
      ]
     },
     "execution_count": 87,
     "metadata": {},
     "output_type": "execute_result"
    }
   ],
   "source": [
    "res = c.execute('SELECT * FROM stats LIMIT 10;')\n",
    "res.fetchall()"
   ]
  },
  {
   "cell_type": "code",
   "execution_count": 101,
   "metadata": {},
   "outputs": [
    {
     "data": {
      "text/plain": [
       "[(4961,\n",
       "  206,\n",
       "  185,\n",
       "  142,\n",
       "  180,\n",
       "  348,\n",
       "  365,\n",
       "  112,\n",
       "  71,\n",
       "  75,\n",
       "  51,\n",
       "  50,\n",
       "  35,\n",
       "  25,\n",
       "  31,\n",
       "  30,\n",
       "  24,\n",
       "  17,\n",
       "  22)]"
      ]
     },
     "execution_count": 101,
     "metadata": {},
     "output_type": "execute_result"
    }
   ],
   "source": [
    "#flattened structure for AI consumption\n",
    "res = c.execute(\"\"\"\n",
    "                SELECT g.game_id,s.kicks,s2.kicks,s.handballs,s2.handballs,s.disposals,s2.disposals,\n",
    "                        s.marks,s2.marks,s.tackles,s2.tackles,s.hitouts,s2.hitouts,s.frees_for,s2.frees_for,\n",
    "                        s.frees_against,s2.frees_against,s.scoring_shots,s2.scoring_shots\n",
    "                FROM (games g JOIN stats s\n",
    "                ON g.home_team_id=s.team_id\n",
    "                AND g.game_id=s.game_id)\n",
    "                JOIN stats s2 ON s2.team_id=g.away_team_id AND g.game_id=s2.game_id\n",
    "                WHERE g.date>'2010-01-01'\n",
    "                LIMIT 1\n",
    "                ;\"\"\")\n",
    "res.fetchall()"
   ]
  },
  {
   "cell_type": "code",
   "execution_count": 111,
   "metadata": {},
   "outputs": [
    {
     "data": {
      "text/plain": [
       "[]"
      ]
     },
     "execution_count": 111,
     "metadata": {},
     "output_type": "execute_result"
    }
   ],
   "source": [
    "#create winner view (1=home team win)\n",
    "res = c.execute(\"\"\"\n",
    "                DROP VIEW winner\n",
    "                \"\"\")\n",
    "res = c.execute(\"\"\"\n",
    "                CREATE VIEW winner AS\n",
    "                SELECT \n",
    "                (6*s.goals_kicked+s.behinds_kicked+s.behinds_rushed)>(6*s2.goals_kicked+s2.behinds_kicked+s2.behinds_rushed)\n",
    "                FROM (games g JOIN stats s\n",
    "                ON g.home_team_id=s.team_id\n",
    "                AND g.game_id=s.game_id)\n",
    "                JOIN stats s2 ON s2.team_id=g.away_team_id AND g.game_id=s2.game_id\n",
    "                ;\"\"\")\n",
    "\n",
    "res.fetchall()"
   ]
  },
  {
   "cell_type": "code",
   "execution_count": 112,
   "metadata": {},
   "outputs": [
    {
     "data": {
      "text/plain": [
       "[(1, 1),\n",
       " (2, 1),\n",
       " (3, 1),\n",
       " (4, 0),\n",
       " (5, 1),\n",
       " (6, 1),\n",
       " (7, 1),\n",
       " (8, 1),\n",
       " (9, 0),\n",
       " (10, 1)]"
      ]
     },
     "execution_count": 112,
     "metadata": {},
     "output_type": "execute_result"
    }
   ],
   "source": [
    "res = c.execute(\"\"\"\n",
    "                SELECT * \n",
    "                FROM winner\n",
    "                LIMIT 10\n",
    "                ;\"\"\")\n",
    "\n",
    "res.fetchall()"
   ]
  },
  {
   "cell_type": "code",
   "execution_count": 15,
   "metadata": {},
   "outputs": [
    {
     "data": {
      "text/plain": [
       "[]"
      ]
     },
     "execution_count": 15,
     "metadata": {},
     "output_type": "execute_result"
    }
   ],
   "source": [
    "# create view for AI consumption\n",
    "res = c.execute(\"\"\"\n",
    "                DROP VIEW ai\n",
    "                \"\"\")\n",
    "res = c.execute(\"\"\"\n",
    "                CREATE VIEW ai AS\n",
    "                SELECT s.kicks,s2.kicks,s.handballs,s2.handballs,s.disposals,s2.disposals,\n",
    "                        s.marks,s2.marks,s.tackles,s2.tackles,s.hitouts,s2.hitouts,s.frees_for,s2.frees_for,\n",
    "                        s.frees_against,s2.frees_against\n",
    "                FROM (games g JOIN stats s\n",
    "                ON g.home_team_id=s.team_id\n",
    "                AND g.game_id=s.game_id)\n",
    "                JOIN stats s2 ON s2.team_id=g.away_team_id AND g.game_id=s2.game_id\n",
    "                ;\"\"\")\n",
    "res.fetchall()"
   ]
  },
  {
   "cell_type": "code",
   "execution_count": 17,
   "metadata": {},
   "outputs": [
    {
     "data": {
      "text/plain": [
       "[(176, 173, 123, 86, 299, 259, 54, 61, 16, 17, 10, 14, 0, 0, 0, 0),\n",
       " (195, 204, 99, 122, 294, 326, 51, 66, 27, 33, 28, 16, 0, 0, 0, 0),\n",
       " (181, 166, 69, 120, 250, 286, 69, 59, 36, 24, 22, 14, 0, 0, 0, 0),\n",
       " (174, 206, 90, 123, 264, 329, 59, 77, 17, 29, 18, 25, 0, 0, 0, 0),\n",
       " (164, 164, 111, 81, 275, 245, 50, 69, 36, 25, 17, 18, 0, 0, 0, 0)]"
      ]
     },
     "execution_count": 17,
     "metadata": {},
     "output_type": "execute_result"
    }
   ],
   "source": [
    "res = c.execute(\"\"\"\n",
    "                SELECT * \n",
    "                FROM ai \n",
    "                LIMIT 5\n",
    "                ;\"\"\")\n",
    "\n",
    "res.fetchall()"
   ]
  },
  {
   "cell_type": "code",
   "execution_count": 18,
   "metadata": {},
   "outputs": [],
   "source": [
    "conn.commit()"
   ]
  },
  {
   "cell_type": "code",
   "execution_count": 5,
   "metadata": {},
   "outputs": [
    {
     "ename": "ModuleNotFoundError",
     "evalue": "No module named 'autokeras'",
     "output_type": "error",
     "traceback": [
      "\u001b[0;31m---------------------------------------------------------------------------\u001b[0m",
      "\u001b[0;31mModuleNotFoundError\u001b[0m                       Traceback (most recent call last)",
      "\u001b[0;32m<ipython-input-5-0c0695817385>\u001b[0m in \u001b[0;36m<module>\u001b[0;34m\u001b[0m\n\u001b[1;32m      1\u001b[0m \u001b[0;32mimport\u001b[0m \u001b[0mnumpy\u001b[0m \u001b[0;32mas\u001b[0m \u001b[0mnp\u001b[0m\u001b[0;34m\u001b[0m\u001b[0;34m\u001b[0m\u001b[0m\n\u001b[0;32m----> 2\u001b[0;31m \u001b[0;32mfrom\u001b[0m \u001b[0mautokeras\u001b[0m \u001b[0;32mimport\u001b[0m \u001b[0mMlpModule\u001b[0m\u001b[0;34m\u001b[0m\u001b[0;34m\u001b[0m\u001b[0m\n\u001b[0m\u001b[1;32m      3\u001b[0m \u001b[0;32mfrom\u001b[0m \u001b[0mautokeras\u001b[0m\u001b[0;34m.\u001b[0m\u001b[0mnn\u001b[0m\u001b[0;34m.\u001b[0m\u001b[0mloss_function\u001b[0m \u001b[0;32mimport\u001b[0m \u001b[0mclassification_loss\u001b[0m\u001b[0;34m\u001b[0m\u001b[0;34m\u001b[0m\u001b[0m\n\u001b[1;32m      4\u001b[0m \u001b[0;32mfrom\u001b[0m \u001b[0mautokeras\u001b[0m\u001b[0;34m.\u001b[0m\u001b[0mnn\u001b[0m\u001b[0;34m.\u001b[0m\u001b[0mmetric\u001b[0m \u001b[0;32mimport\u001b[0m \u001b[0mAccuracy\u001b[0m\u001b[0;34m\u001b[0m\u001b[0;34m\u001b[0m\u001b[0m\n\u001b[1;32m      5\u001b[0m \u001b[0;32mfrom\u001b[0m \u001b[0mautokeras\u001b[0m\u001b[0;34m.\u001b[0m\u001b[0mpreprocessor\u001b[0m \u001b[0;32mimport\u001b[0m \u001b[0mOneHotEncoder\u001b[0m\u001b[0;34m,\u001b[0m \u001b[0mDataTransformerMlp\u001b[0m\u001b[0;34m\u001b[0m\u001b[0;34m\u001b[0m\u001b[0m\n",
      "\u001b[0;31mModuleNotFoundError\u001b[0m: No module named 'autokeras'"
     ]
    }
   ],
   "source": [
    "import numpy as np\n",
    "from autokeras import MlpModule\n",
    "from autokeras.nn.loss_function import classification_loss\n",
    "from autokeras.nn.metric import Accuracy\n",
    "from autokeras.preprocessor import OneHotEncoder, DataTransformerMlp"
   ]
  },
  {
   "cell_type": "code",
   "execution_count": 10,
   "metadata": {},
   "outputs": [],
   "source": [
    "res = c.execute(\"\"\"\n",
    "                SELECT * \n",
    "                FROM winner\n",
    "                ;\"\"\")\n",
    "y = res.fetchall()\n",
    "y = np.array(y)\n",
    "y_train = y[:4078]\n",
    "y_test = y[4078:]\n",
    "\n",
    "\n",
    "res = c.execute(\"\"\"\n",
    "                SELECT * \n",
    "                FROM ai\n",
    "                ;\"\"\")\n",
    "x = res.fetchall()\n",
    "x = np.array(x)\n",
    "x_train = x[:4078]\n",
    "x_test = x[4078:]"
   ]
  },
  {
   "cell_type": "code",
   "execution_count": 12,
   "metadata": {},
   "outputs": [
    {
     "ename": "NameError",
     "evalue": "name 'MlpModule' is not defined",
     "output_type": "error",
     "traceback": [
      "\u001b[0;31m---------------------------------------------------------------------------\u001b[0m",
      "\u001b[0;31mNameError\u001b[0m                                 Traceback (most recent call last)",
      "\u001b[0;32m<ipython-input-12-cea251691617>\u001b[0m in \u001b[0;36m<module>\u001b[0;34m\u001b[0m\n\u001b[0;32m----> 1\u001b[0;31m \u001b[0mmlpModule\u001b[0m \u001b[0;34m=\u001b[0m \u001b[0mMlpModule\u001b[0m\u001b[0;34m(\u001b[0m\u001b[0mloss\u001b[0m\u001b[0;34m=\u001b[0m\u001b[0mclassification_loss\u001b[0m\u001b[0;34m,\u001b[0m \u001b[0mmetric\u001b[0m\u001b[0;34m=\u001b[0m\u001b[0mAccuracy\u001b[0m\u001b[0;34m,\u001b[0m \u001b[0msearcher_args\u001b[0m\u001b[0;34m=\u001b[0m\u001b[0;34m{\u001b[0m\u001b[0;34m}\u001b[0m\u001b[0;34m,\u001b[0m \u001b[0mverbose\u001b[0m\u001b[0;34m=\u001b[0m\u001b[0;32mTrue\u001b[0m\u001b[0;34m)\u001b[0m\u001b[0;34m\u001b[0m\u001b[0;34m\u001b[0m\u001b[0m\n\u001b[0m\u001b[1;32m      2\u001b[0m \u001b[0;34m\u001b[0m\u001b[0m\n\u001b[1;32m      3\u001b[0m \u001b[0;31m# specify the fit args\u001b[0m\u001b[0;34m\u001b[0m\u001b[0;34m\u001b[0m\u001b[0;34m\u001b[0m\u001b[0m\n\u001b[1;32m      4\u001b[0m \u001b[0mdata_transformer\u001b[0m \u001b[0;34m=\u001b[0m \u001b[0mDataTransformerMlp\u001b[0m\u001b[0;34m(\u001b[0m\u001b[0mx_train\u001b[0m\u001b[0;34m)\u001b[0m\u001b[0;34m\u001b[0m\u001b[0;34m\u001b[0m\u001b[0m\n\u001b[1;32m      5\u001b[0m \u001b[0mtrain_data\u001b[0m \u001b[0;34m=\u001b[0m \u001b[0mdata_transformer\u001b[0m\u001b[0;34m.\u001b[0m\u001b[0mtransform_train\u001b[0m\u001b[0;34m(\u001b[0m\u001b[0mx_train\u001b[0m\u001b[0;34m,\u001b[0m \u001b[0my_train\u001b[0m\u001b[0;34m)\u001b[0m\u001b[0;34m\u001b[0m\u001b[0;34m\u001b[0m\u001b[0m\n",
      "\u001b[0;31mNameError\u001b[0m: name 'MlpModule' is not defined"
     ]
    }
   ],
   "source": [
    "mlpModule = MlpModule(loss=classification_loss, metric=Accuracy, searcher_args={}, verbose=True)\n",
    "\n",
    "# specify the fit args\n",
    "data_transformer = DataTransformerMlp(x_train)\n",
    "train_data = data_transformer.transform_train(x_train, y_train)\n",
    "test_data = data_transformer.transform_test(x_test, y_test)\n",
    "fit_args = {\n",
    "    \"n_output_node\": 1,\n",
    "    \"input_shape\": x_train.shape,\n",
    "    \"train_data\": train_data,\n",
    "    \"test_data\": test_data\n",
    "}\n",
    "mlpModule.fit(n_output_node=fit_args.get(\"n_output_node\"),\n",
    "              input_shape=fit_args.get(\"input_shape\"),\n",
    "              train_data=fit_args.get(\"train_data\"),\n",
    "              test_data=fit_args.get(\"test_data\"))"
   ]
  },
  {
   "cell_type": "code",
   "execution_count": 19,
   "metadata": {},
   "outputs": [],
   "source": [
    "import sqlite3\n",
    "import numpy as np\n",
    "sqlite_db = 'datasets/afl-stats.sqlite'\n",
    "conn = sqlite3.connect(sqlite_db) \n",
    "c = conn.cursor()\n",
    "\n",
    "res = c.execute(\"\"\"SELECT * FROM winner;\"\"\")\n",
    "y = res.fetchall()\n",
    "y = np.array(y)\n",
    "y_train = y[:4078]\n",
    "y_test = y[4078:]\n",
    "\n",
    "res = c.execute(\"\"\"SELECT * FROM ai;\"\"\")\n",
    "x = res.fetchall()\n",
    "x = np.array(x)\n",
    "x_train = x[:4078]\n",
    "x_test = x[4078:]"
   ]
  },
  {
   "cell_type": "code",
   "execution_count": 21,
   "metadata": {},
   "outputs": [
    {
     "data": {
      "text/plain": [
       "array([[181, 180,  61, ...,  24,  24,  20],\n",
       "       [211, 141, 162, ...,  16,  16,  27],\n",
       "       [207, 184, 205, ...,  20,  20,  20],\n",
       "       ...,\n",
       "       [202, 175, 154, ...,  18,  18,  14],\n",
       "       [196, 181, 173, ...,  21,  21,  17],\n",
       "       [167, 245, 131, ...,  18,  18,  18]])"
      ]
     },
     "execution_count": 21,
     "metadata": {},
     "output_type": "execute_result"
    }
   ],
   "source": [
    "x_test"
   ]
  },
  {
   "cell_type": "code",
   "execution_count": null,
   "metadata": {},
   "outputs": [],
   "source": []
  }
 ],
 "metadata": {
  "kernelspec": {
   "display_name": "Python 3",
   "language": "python",
   "name": "python3"
  },
  "language_info": {
   "codemirror_mode": {
    "name": "ipython",
    "version": 3
   },
   "file_extension": ".py",
   "mimetype": "text/x-python",
   "name": "python",
   "nbconvert_exporter": "python",
   "pygments_lexer": "ipython3",
   "version": "3.7.1"
  }
 },
 "nbformat": 4,
 "nbformat_minor": 2
}
